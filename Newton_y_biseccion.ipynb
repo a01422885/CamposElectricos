{
  "nbformat": 4,
  "nbformat_minor": 0,
  "metadata": {
    "colab": {
      "name": "Newton_y_biseccion.ipynb",
      "provenance": [],
      "collapsed_sections": [],
      "authorship_tag": "ABX9TyNIBq28vWmIkPWKs2pmZ7Ky",
      "include_colab_link": true
    },
    "kernelspec": {
      "name": "python3",
      "display_name": "Python 3"
    }
  },
  "cells": [
    {
      "cell_type": "markdown",
      "metadata": {
        "id": "view-in-github",
        "colab_type": "text"
      },
      "source": [
        "<a href=\"https://colab.research.google.com/github/a01422885/CamposElectricos/blob/master/Newton_y_biseccion.ipynb\" target=\"_parent\"><img src=\"https://colab.research.google.com/assets/colab-badge.svg\" alt=\"Open In Colab\"/></a>"
      ]
    },
    {
      "cell_type": "code",
      "metadata": {
        "id": "dgxTQrPk5Tf4",
        "colab_type": "code",
        "colab": {}
      },
      "source": [
        "import numpy as np\n",
        "import matplotlib.pyplot as plt\n",
        "plt.style.use('ggplot')\n",
        "\n",
        "#necesario para estos métodos matemáticos \n",
        "from scipy.optimize import bisect, newton\n",
        " \n",
        "#funciones ejercicios, le das tu \"x\" y te regresa la función resuelta \n",
        "def F1(x):\n",
        "    return x-np.cos(x)\n",
        " \n",
        "def F2(x):\n",
        "    return x*np.log10(x)*x-2\n",
        " \n",
        "def F3(x):\n",
        "    return np.exp(0.3*x)-x**2+4\n",
        " \n",
        "def F4(x):\n",
        "    return 2*np.cos(x)-(np.sqrt(x)/2)-1\n",
        "\n",
        "#Se guardan las funciones en una variable de matriz \n",
        "functions = [F1, F2, F3, F3, F3, F4]\n",
        "\n",
        "#Se definen los intervalos para cada función entre los cuales se encuentra cada raíz\n",
        "intervals = [[-5, 5], [1, 5], [-4, -2], [2, 4], [18, 22], [0, 10]]\n",
        "x0 = [0, 2, -2, 2, 20, 5]\n",
        " \n",
        " #Se saca la derivada de la función con limite a 0, es decir usando delta, se dan como parametros la funcion, x y  el delta\n",
        " #Esta función se ocupada en ambos métodos\n",
        "def Dif(f, x, delta = 1e-12):\n",
        "  #esta es la formula para derivada \n",
        "    return (f(x+delta)-f(x))/delta\n",
        " \n",
        "def Newton_M(f, x0):\n",
        "    xn = x0\n",
        "    \n",
        "    for i in range(100):\n",
        "      #Esta es la formula del metodo \n",
        "        xn1 = xn-(f(xn)/Dif(f, xn))\n",
        "\n",
        "        #Si el valor absoluto de la resta es menor o igual al delta, se rompe el ciclo      \n",
        "        if abs(xn-xn1) <= 1e-12:\n",
        "            break\n",
        "        else:\n",
        "            xn = xn1\n",
        "                 \n",
        "    return xn1\n",
        " \n",
        "def Bisection_Method(f, a, b, n, TOLERANCE = 2e-12):\n",
        "  #Se saca la mitad del intervalo \n",
        "    c = (1/2)*(a+b)\n",
        " \n",
        " #Si el producto de a*c es negativo se elige b como punto medio\n",
        "    if (f(a)*f(c)) < 0:\n",
        "        b = c\n",
        "#Si el producto de b*c es negativo se elige a como punto medio\n",
        "    elif (f(b)*f(c)) < 0:\n",
        "        a = c\n",
        "    #----------¡Cuando la evaluación de c sea cero de devolverá c que es donde esta la raíz!--------\n",
        "    if (f(c) == 0) or (((1/2)*(b-a)) <= TOLERANCE)or(n == 100):\n",
        "        return c\n",
        "#si no se consigue lo de arriba se seguirá  buscando una nueva c hasta cumplir la condición de arriba\n",
        "    else:\n",
        "        return Bisection_Method(f, a, b, (n+1))\n",
        " \n",
        " #Se imprimen los resultados para cada función con cada método\n",
        "for i in range(len(functions)):\n",
        "  #Es imprime con el metodo ya existente de python \n",
        "    print(\"La raíz de F\",functions[i],\"según nuestro método de Bisección es: \", Bisection_Method(functions[i], intervals[i][0], intervals[i][1], 0))\n",
        "    #este con nuestro método y lo mismo para lo de abajo\n",
        "    print(\"La raíz de F\",functions[i],\"según el método de Bisección de python es: \", bisect(functions[i], intervals[i][0], intervals[i][1]),\"\\n\")\n",
        "    print(\"La raíz de F\",functions[i],\"según nuestro método de Newton es: \", Newton_M(functions[i], x0[i]))\n",
        "    print(\"La raíz de F\",functions[i],\"según el método de Newton de python es: \", newton(functions[i], x0[i]),\"\\n\\n\")\n",
        " \n"
      ],
      "execution_count": 0,
      "outputs": []
    }
  ]
}